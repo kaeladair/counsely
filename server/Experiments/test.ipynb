{
 "cells": [
  {
   "cell_type": "markdown",
   "metadata": {},
   "source": [
    "### Header"
   ]
  },
  {
   "cell_type": "code",
   "execution_count": 45,
   "metadata": {},
   "outputs": [],
   "source": [
    "from openai import OpenAI\n",
    "from typing import List \n",
    "\n",
    "client = OpenAI()"
   ]
  },
  {
   "cell_type": "markdown",
   "metadata": {},
   "source": [
    "# Client Live"
   ]
  },
  {
   "cell_type": "markdown",
   "metadata": {},
   "source": [
    "### Mood"
   ]
  },
  {
   "cell_type": "code",
   "execution_count": 46,
   "metadata": {},
   "outputs": [],
   "source": [
    "example_transcript = [\n",
    "  \"I am feeling uneasy lately. I did poorly on my exam and it is disconcerting because I need a scholarship\",\n",
    "  \"I just wish I could take some time off\",\n",
    "  \"A vacation or some change of pace would really help me improve\"\n",
    "]\n",
    "\n",
    "message_array = [\n",
    "      {\"role\": \"system\", \"content\": \"You will be given the transcript of a therapy session. Analyze the aggregate sentiment and return the emotion of the tone conveyed. You may only say one word, and it must be one of these five: Bored, Hopeful, Frustrated, Melancholy, Surprised\"},\n",
    "    ]\n",
    "  \n",
    "for excerpt in example_transcript:\n",
    "  message_array.append({\"role\": \"user\", \"content\": excerpt})\n",
    "\n",
    "response = client.chat.completions.create(\n",
    "    model=\"gpt-3.5-turbo\",\n",
    "    messages=message_array,\n",
    "    temperature=0\n",
    ")"
   ]
  },
  {
   "cell_type": "markdown",
   "metadata": {},
   "source": [
    "# Client Post"
   ]
  },
  {
   "cell_type": "markdown",
   "metadata": {},
   "source": [
    "### Communication Style"
   ]
  },
  {
   "cell_type": "code",
   "execution_count": 43,
   "metadata": {},
   "outputs": [],
   "source": [
    "example_passive = [\n",
    "  \"There's been this feeling of being overwhelmed lately, and it seems like things are piling up on me.\",\n",
    "  \"Work has been rather demanding, and it's proving challenging to keep up with the tasks.\",\n",
    "  \"In my personal life, there appears to be a bit of chaos, and I'm not entirely sure how to manage it.\",\n",
    "  \"There's been difficulty with sleep, and there's a constant stream of worries and thoughts that don't seem to settle.\",\n",
    "  \"I was kind of hoping to find a space to maybe share and discuss what's been happening.\",\n",
    "  \"Dealing with these emotions and pressures is proving to be a bit perplexing for me, if I may say so.\",\n",
    "  \"It's as if there are numerous things being juggled, and there's this fear that everything might end up dropping, you know?\",\n",
    "  \"Recently, there has been some exploration of hobbies like painting and hiking to unwind, although they seem to add to the already overwhelming list of things to do, if that makes sense.\",\n",
    "  \"Socializing used to bring some joy, but currently, there's this sense of lacking the energy for it, or so it seems.\",\n",
    "  \"Finding a balance and maybe regaining some control over life is something that's kind of being yearned for, if that's okay to express.\"\n",
    "]\n",
    "\n",
    "\n",
    "example_assertive = [\n",
    "  \"I'm feeling overwhelmed with everything piling up on me recently.\",\n",
    "  \"Work is stressing me out, and I can't keep up with the demands.\",\n",
    "  \"My personal life is chaotic, and I don't know how to manage it.\",\n",
    "  \"I'm having trouble sleeping, and my mind is constantly racing with worries.\",\n",
    "  \"I just needed a place to vent and talk about what's going on.\",\n",
    "  \"I don't know how to deal with all these emotions and pressures.\",\n",
    "  \"It feels like I'm juggling so many things, and I'm afraid I might drop everything.\",\n",
    "  \"I've been trying hobbies like painting and hiking to de-stress, but they just add to my never-ending to-do list.\",\n",
    "  \"I used to enjoy spending time with friends, but now I don't have the energy for it.\",\n",
    "  \"I need to find a balance and regain control over my life.\"\n",
    "]\n",
    "\n",
    "example_transcript = example_passive\n",
    "\n",
    "message_array = [\n",
    "      {\"role\": \"system\", \"content\": \"You will be given the transcript of what a client told a therapist during a therapy session. Tell me their communication style given that you may only say one of these two options: Passive, Assertive\"},\n",
    "    ]\n",
    "  \n",
    "for excerpt in example_transcript:\n",
    "  message_array.append({\"role\": \"user\", \"content\": excerpt})\n",
    "\n",
    "response = client.chat.completions.create(\n",
    "    model=\"gpt-3.5-turbo\",\n",
    "    messages=message_array,\n",
    "    temperature=0\n",
    ")"
   ]
  },
  {
   "cell_type": "markdown",
   "metadata": {},
   "source": [
    "# Therapist Live"
   ]
  },
  {
   "cell_type": "markdown",
   "metadata": {},
   "source": [
    "### Get Recommendation"
   ]
  },
  {
   "cell_type": "code",
   "execution_count": null,
   "metadata": {},
   "outputs": [],
   "source": [
    "example_transcript = [\n",
    "  \"I am feeling uneasy lately. I did poorly on my exam and it is disconcerting because I need a scholarship\",\n",
    "  \"I just wish I could take some time off\",\n",
    "  \"A vacation or some change of pace would really help me improve\"\n",
    "]\n",
    "\n",
    "message_array = [\n",
    "      {\"role\": \"system\", \"content\": \"You will be given the transcript of a therapy session. Analyze the aggregate sentiment and return the emotion of the tone conveyed. You may only say one word, and it must be one of these five: Bored, Hopeful, Frustrated, Melancholy, Surprised\"},\n",
    "    ]\n",
    "  \n",
    "for excerpt in example_transcript:\n",
    "  message_array.append({\"role\": \"user\", \"content\": excerpt})\n",
    "\n",
    "response = client.chat.completions.create(\n",
    "    model=\"gpt-3.5-turbo\",\n",
    "    messages=message_array,\n",
    "    temperature=0\n",
    ")"
   ]
  },
  {
   "cell_type": "markdown",
   "metadata": {},
   "source": [
    "# Therapist Post"
   ]
  },
  {
   "cell_type": "markdown",
   "metadata": {},
   "source": [
    "### Result"
   ]
  },
  {
   "cell_type": "code",
   "execution_count": 47,
   "metadata": {},
   "outputs": [
    {
     "data": {
      "text/plain": [
       "'Hopeful'"
      ]
     },
     "execution_count": 47,
     "metadata": {},
     "output_type": "execute_result"
    }
   ],
   "source": [
    "response.choices[0].message.content"
   ]
  }
 ],
 "metadata": {
  "kernelspec": {
   "display_name": "Python 3",
   "language": "python",
   "name": "python3"
  },
  "language_info": {
   "codemirror_mode": {
    "name": "ipython",
    "version": 3
   },
   "file_extension": ".py",
   "mimetype": "text/x-python",
   "name": "python",
   "nbconvert_exporter": "python",
   "pygments_lexer": "ipython3",
   "version": "3.11.0"
  }
 },
 "nbformat": 4,
 "nbformat_minor": 2
}
