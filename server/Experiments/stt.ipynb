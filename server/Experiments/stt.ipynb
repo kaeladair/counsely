{
 "cells": [
  {
   "cell_type": "code",
   "execution_count": 4,
   "metadata": {},
   "outputs": [],
   "source": [
    "import torch\n",
    "from transformers import pipeline\n",
    "import base64\n",
    "from scipy.io import wavfile\n",
    "import io\n",
    "import numpy as np\n",
    "from transformers.utils import is_flash_attn_2_available\n",
    "\n",
    "class Transcriber:\n",
    "    def __init__(self, model_name=\"openai/whisper-tiny  \", device=None):\n",
    "        self.device = device if device else \"cuda:0\" if torch.cuda.is_available() else \"cpu\"\n",
    "        self.pipe = pipeline(\n",
    "            \"automatic-speech-recognition\",\n",
    "            model=model_name,\n",
    "            chunk_length_s=30,\n",
    "            device=self.device,\n",
    "            model_kwargs={\"attn_implementation\": \"flash_attention_2\"} if is_flash_attn_2_available() else {\"attn_implementation\": \"sdpa\"},\n",
    "        )\n",
    "\n",
    "    def transcribe(self, audio_array, sampling_rate, batch_size=8):\n",
    "        # Format the audio array to match the input format expected by the pipeline\n",
    "        audio_dict = {\"array\": audio_array, \"sampling_rate\": sampling_rate}\n",
    "        # Transcribe using the pipeline\n",
    "        transcription = self.pipe(audio_dict, batch_size=batch_size)[\"text\"]\n",
    "        return transcription\n",
    "\n",
    "    def encode_audio(self, audio_file):\n",
    "        with open(audio_file, 'rb') as audio_file:\n",
    "            encoded_audio = base64.b64encode(audio_file.read())\n",
    "        return encoded_audio\n",
    "\n",
    "    def decode_audio_to_np_array(self, encoded_audio):\n",
    "        decoded_audio = base64.b64decode(encoded_audio)\n",
    "        sr, audio = wavfile.read(io.BytesIO(decoded_audio))\n",
    "        audio = audio.astype(np.float32)\n",
    "        audio = audio / np.max(np.abs(audio))\n",
    "        return sr, audio\n",
    "\n",
    "# Usage Example\n",
    "# transcriber = Transcriber()\n",
    "# sr, audio_array = transcriber.decode_audio_to_np_array(encoded_audio)\n",
    "# transcription = transcriber.transcribe(audio_array, sr)\n"
   ]
  },
  {
   "cell_type": "code",
   "execution_count": 5,
   "metadata": {},
   "outputs": [],
   "source": [
    "# Initialize the Transcriber\n",
    "transcriber = Transcriber()\n"
   ]
  },
  {
   "cell_type": "code",
   "execution_count": 6,
   "metadata": {},
   "outputs": [
    {
     "name": "stdout",
     "output_type": "stream",
     "text": [
      "Time taken:  9.825674533843994\n",
      " Henry F. Phillips from Wikipedia, the free encyclopedia at EN. Wikipedia.org Henry F. Phillips from Wikipedia, the free encyclopedia Henry F. Phillips, 1890 to 1958, a US businessman from Portland, Oregon, has the honor of having the Phillips-head screw and screwdriver named after him. The importance of the cross-head screw design lies in its self itself centering property, useful on automated production lines that use powered screw drivers. Phillips major contribution was in driving the crosshead concept forward to the point where it was adopted by screw makers and automobile companies. Although he received patents for the design in 1936, US patent number 2,046,343, US patents 2,046,837 to 2,046,837 to $2,046,840. It was so widely copied that by 1949, Phillips lost his patent. The American screw company was responsible for devising a means of manufacturing the screw and successfully patented and licensed their method. Other screw makers of the 1930s dismissed the Phillips concept since it calls for a relatively complex recessed socket shape in the head of the screw as distinct from the simple milled slot of a slotted type screw. The Phillips screw company and the American screw company went on to devise the positrive screw which differs from the Phillips in that it is designed to accommodate greater torque than the Philips. An image accompanied this article, caption, Philips screw head. The following is an info box which accompanies this article. Info box, part of this series on screw-drive types. Slotted, commonly, erroneously, flat head. Phillips, cross head. Pause a drive, super drive. Torx, hex, Allen. Robertson. Tri-wing. Torxet. Spannerhead. Triple square. XZN. Others. Polydrive, Spline Drive, Double Hex Many images accompanied this info box. This page was last modified on 9 April 2008 at 1704. All text is available under the terms of the GNU-free documentation license. See Copyrights for details. Wikipedia is a registered trademark of the Wikimedia Foundation Incorporated. A US registered 501c3 tax deductible non-profit charity. This sound file and all texts in the article are licensed under the GNU Free Documentation License. Available at www.gnu.org slash copy left slash fdl.html.\n"
     ]
    }
   ],
   "source": [
    "import time\n",
    "\n",
    "start = time.time()\n",
    "\n",
    "# Path to the WAV file\n",
    "wav_file = \"medium.wav\"\n",
    "\n",
    "# Convert wav file to base64\n",
    "encoded_audio = transcriber.encode_audio(wav_file)\n",
    "\n",
    "# Convert base64 to numpy array and get sampling rate\n",
    "sampling_rate, audio_np_array = transcriber.decode_audio_to_np_array(encoded_audio)\n",
    "\n",
    "# Transcribe the audio\n",
    "text = transcriber.transcribe(audio_np_array, sampling_rate)\n",
    "\n",
    "end = time.time()\n",
    "\n",
    "print(\"Time taken: \", end - start)\n",
    "print(text)\n",
    "\n",
    "# Save text to file\n",
    "with open(\"small.txt\", \"w\") as text_file:\n",
    "    text_file.write(text)"
   ]
  }
 ],
 "metadata": {
  "kernelspec": {
   "display_name": "Python 3",
   "language": "python",
   "name": "python3"
  },
  "language_info": {
   "codemirror_mode": {
    "name": "ipython",
    "version": 3
   },
   "file_extension": ".py",
   "mimetype": "text/x-python",
   "name": "python",
   "nbconvert_exporter": "python",
   "pygments_lexer": "ipython3",
   "version": "3.11.7"
  }
 },
 "nbformat": 4,
 "nbformat_minor": 2
}
