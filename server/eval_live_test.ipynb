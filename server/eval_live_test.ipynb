{
 "cells": [
  {
   "cell_type": "code",
   "execution_count": 1,
   "metadata": {},
   "outputs": [],
   "source": [
    "import dotenv\n",
    "import os\n",
    "dotenv.load_dotenv()\n",
    "from openai import AsyncOpenAI\n",
    "\n",
    "client = AsyncOpenAI()\n",
    "model = \"gpt-4-1106-preview\""
   ]
  },
  {
   "cell_type": "code",
   "execution_count": 2,
   "metadata": {},
   "outputs": [],
   "source": [
    "async def recommend_eval(messages, client):\n",
    "\n",
    "  content = \"\"\"\n",
    "    You will be given the transcript of a therapy session. You are to generate four concise recommendations for the therapist to talk about next.\n",
    "    Generate a json with the following format:\n",
    "    {\n",
    "      \"recommendations\": [\"List\", \"of\", \"four\", \"recommendations\"]\n",
    "    }\n",
    "    \"\"\"\n",
    "\n",
    "  messages = [\n",
    "      {\"role\": \"system\", \"content\": content},\n",
    "      {'role': 'user', 'content': messages}\n",
    "  ]\n",
    "\n",
    "  response = await client.chat.completions.create(\n",
    "    model=model,\n",
    "    response_format={ \"type\": \"json_object\" },\n",
    "    messages=messages,\n",
    "    temperature=0\n",
    "  )\n",
    "\n",
    "  return response.choices[0].message.content\n",
    "\n",
    "async def mood_eval(messages, client):\n",
    "\n",
    "  content = \"\"\"\n",
    "    You will be given the transcript of what a patient told a therapist during a therapy session. \n",
    "    Generate a json with the following format:\n",
    "    {\n",
    "      \"mood\": \"one word to describe their current mood\"\n",
    "    }\n",
    "    \"\"\"\n",
    "\n",
    "  messages = [\n",
    "      {\"role\": \"system\", \"content\": content},\n",
    "      {'role': 'user', 'content': messages}\n",
    "  ]\n",
    "\n",
    "  response = await client.chat.completions.create(\n",
    "    model=model,\n",
    "    response_format={ \"type\": \"json_object\" },\n",
    "    messages=messages,\n",
    "    temperature=0\n",
    "  )\n",
    "\n",
    "  return response.choices[0].message.content\n",
    "\n",
    "def process_conversation_client_only(excerpts):\n",
    "  messages = \"\"\n",
    "\n",
    "  for excerpt in excerpts:\n",
    "    if excerpt['role'] == \"patient\":\n",
    "      messages += excerpt['content'] + \"\\n\"\n",
    "      \n",
    "  return messages\n",
    "      \n",
    "def process_conversation(excerpts):\n",
    "  messages = \"\"\n",
    "  \n",
    "  for excerpt in excerpts:\n",
    "    messages += excerpt['role'] + \": \" + excerpt['content'] + \"\\n\"\n",
    "    \n",
    "  return messages\n",
    "\n",
    "\n",
    "\n",
    "\n",
    "\n",
    "\n",
    "\n"
   ]
  },
  {
   "cell_type": "code",
   "execution_count": 3,
   "metadata": {},
   "outputs": [],
   "source": [
    "mock = [\n",
    "  {\"role\": \"therapist\", \"content\": \"Good morning, how are you feeling today?\"},\n",
    "  {\"role\": \"patient\", \"content\": \"Honestly, I've been feeling a bit overwhelmed lately.\"},\n",
    "  {\"role\": \"therapist\", \"content\": \"I'm sorry to hear that. Can you tell me a bit more about what's been overwhelming you?\"},\n",
    "  {\"role\": \"patient\", \"content\": \"Work has been extremely stressful, and it's been hard to balance that with family life.\"},\n",
    "  {\"role\": \"therapist\", \"content\": \"Balancing work and family can certainly be challenging. How have you been coping with this stress?\"},\n",
    "  {\"role\": \"patient\", \"content\": \"I try to relax in the evenings, but I'm finding it hard to switch off from work.\"}\n",
    "]"
   ]
  },
  {
   "cell_type": "code",
   "execution_count": 4,
   "metadata": {},
   "outputs": [
    {
     "name": "stdout",
     "output_type": "stream",
     "text": [
      "Honestly, I've been feeling a bit overwhelmed lately.\n",
      "Work has been extremely stressful, and it's been hard to balance that with family life.\n",
      "I try to relax in the evenings, but I'm finding it hard to switch off from work.\n",
      "\n",
      "therapist: Good morning, how are you feeling today?\n",
      "patient: Honestly, I've been feeling a bit overwhelmed lately.\n",
      "therapist: I'm sorry to hear that. Can you tell me a bit more about what's been overwhelming you?\n",
      "patient: Work has been extremely stressful, and it's been hard to balance that with family life.\n",
      "therapist: Balancing work and family can certainly be challenging. How have you been coping with this stress?\n",
      "patient: I try to relax in the evenings, but I'm finding it hard to switch off from work.\n",
      "\n"
     ]
    }
   ],
   "source": [
    "mock_patient = process_conversation_client_only(mock)\n",
    "mock_transcript = process_conversation(mock)\n",
    "print(mock_patient)\n",
    "print(mock_transcript)"
   ]
  },
  {
   "cell_type": "code",
   "execution_count": 5,
   "metadata": {},
   "outputs": [
    {
     "name": "stdout",
     "output_type": "stream",
     "text": [
      "{\n",
      "  \"recommendations\": [\n",
      "    \"Discuss time management and prioritization strategies to help balance work and family life.\",\n",
      "    \"Explore relaxation techniques that can help the patient switch off from work in the evenings.\",\n",
      "    \"Consider setting boundaries at work to reduce stress and prevent burnout.\",\n",
      "    \"Talk about the importance of self-care and finding personal time amidst a busy schedule.\"\n",
      "  ]\n",
      "}\n",
      "{\n",
      "  \"mood\": \"overwhelmed\"\n",
      "}\n"
     ]
    }
   ],
   "source": [
    "recommend_profile = await recommend_eval(mock_transcript, client)\n",
    "print(recommend_profile)\n",
    "mood_profile = await mood_eval(mock_patient, client)\n",
    "print(mood_profile)\n"
   ]
  },
  {
   "cell_type": "code",
   "execution_count": 8,
   "metadata": {},
   "outputs": [
    {
     "name": "stdout",
     "output_type": "stream",
     "text": [
      "{'recommendations': ['Discuss time management and prioritization strategies to help balance work and family life.', 'Explore relaxation techniques that can help the patient switch off from work in the evenings.', 'Consider setting boundaries at work to reduce stress and prevent burnout.', 'Talk about the importance of self-care and finding personal time amidst a busy schedule.']}\n"
     ]
    }
   ],
   "source": [
    "import json\n",
    "print(json.loads(recommend_profile))"
   ]
  }
 ],
 "metadata": {
  "kernelspec": {
   "display_name": "Python 3",
   "language": "python",
   "name": "python3"
  },
  "language_info": {
   "codemirror_mode": {
    "name": "ipython",
    "version": 3
   },
   "file_extension": ".py",
   "mimetype": "text/x-python",
   "name": "python",
   "nbconvert_exporter": "python",
   "pygments_lexer": "ipython3",
   "version": "3.11.0"
  }
 },
 "nbformat": 4,
 "nbformat_minor": 2
}
